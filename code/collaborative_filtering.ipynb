{
 "cells": [
  {
   "cell_type": "code",
   "execution_count": 1,
   "id": "d62351df",
   "metadata": {
    "scrolled": true
   },
   "outputs": [],
   "source": [
    "import pandas as pd"
   ]
  },
  {
   "cell_type": "code",
   "execution_count": 2,
   "id": "fe67b0f2",
   "metadata": {},
   "outputs": [
    {
     "data": {
      "text/html": [
       "<div>\n",
       "<style scoped>\n",
       "    .dataframe tbody tr th:only-of-type {\n",
       "        vertical-align: middle;\n",
       "    }\n",
       "\n",
       "    .dataframe tbody tr th {\n",
       "        vertical-align: top;\n",
       "    }\n",
       "\n",
       "    .dataframe thead th {\n",
       "        text-align: right;\n",
       "    }\n",
       "</style>\n",
       "<table border=\"1\" class=\"dataframe\">\n",
       "  <thead>\n",
       "    <tr style=\"text-align: right;\">\n",
       "      <th></th>\n",
       "      <th>시군구</th>\n",
       "      <th>동반자유형</th>\n",
       "      <th>만족도</th>\n",
       "      <th>재방문의도</th>\n",
       "      <th>타인추천의도</th>\n",
       "      <th>성별</th>\n",
       "      <th>연령대</th>\n",
       "      <th>평점</th>\n",
       "      <th>법정동코드</th>\n",
       "    </tr>\n",
       "  </thead>\n",
       "  <tbody>\n",
       "    <tr>\n",
       "      <th>0</th>\n",
       "      <td>강원특별자치도 삼척시</td>\n",
       "      <td>가족</td>\n",
       "      <td>5</td>\n",
       "      <td>4</td>\n",
       "      <td>4</td>\n",
       "      <td>여</td>\n",
       "      <td>15~19세</td>\n",
       "      <td>5.266667</td>\n",
       "      <td>42230</td>\n",
       "    </tr>\n",
       "    <tr>\n",
       "      <th>1</th>\n",
       "      <td>제주특별자치도 서귀포시</td>\n",
       "      <td>가족</td>\n",
       "      <td>5</td>\n",
       "      <td>5</td>\n",
       "      <td>5</td>\n",
       "      <td>여</td>\n",
       "      <td>30대</td>\n",
       "      <td>6.166667</td>\n",
       "      <td>50130</td>\n",
       "    </tr>\n",
       "    <tr>\n",
       "      <th>2</th>\n",
       "      <td>강원특별자치도 강릉시</td>\n",
       "      <td>가족</td>\n",
       "      <td>5</td>\n",
       "      <td>5</td>\n",
       "      <td>4</td>\n",
       "      <td>남</td>\n",
       "      <td>30대</td>\n",
       "      <td>5.666667</td>\n",
       "      <td>42150</td>\n",
       "    </tr>\n",
       "    <tr>\n",
       "      <th>3</th>\n",
       "      <td>강원특별자치도 강릉시</td>\n",
       "      <td>비가족</td>\n",
       "      <td>5</td>\n",
       "      <td>5</td>\n",
       "      <td>4</td>\n",
       "      <td>남</td>\n",
       "      <td>50대</td>\n",
       "      <td>5.666667</td>\n",
       "      <td>42150</td>\n",
       "    </tr>\n",
       "    <tr>\n",
       "      <th>4</th>\n",
       "      <td>강원특별자치도 춘천시</td>\n",
       "      <td>비가족</td>\n",
       "      <td>5</td>\n",
       "      <td>4</td>\n",
       "      <td>3</td>\n",
       "      <td>남</td>\n",
       "      <td>40대</td>\n",
       "      <td>4.766667</td>\n",
       "      <td>42110</td>\n",
       "    </tr>\n",
       "  </tbody>\n",
       "</table>\n",
       "</div>"
      ],
      "text/plain": [
       "            시군구 동반자유형  만족도  재방문의도  타인추천의도 성별     연령대        평점  법정동코드\n",
       "0   강원특별자치도 삼척시    가족    5      4       4  여  15~19세  5.266667  42230\n",
       "1  제주특별자치도 서귀포시    가족    5      5       5  여     30대  6.166667  50130\n",
       "2   강원특별자치도 강릉시    가족    5      5       4  남     30대  5.666667  42150\n",
       "3   강원특별자치도 강릉시   비가족    5      5       4  남     50대  5.666667  42150\n",
       "4   강원특별자치도 춘천시   비가족    5      4       3  남     40대  4.766667  42110"
      ]
     },
     "execution_count": 2,
     "metadata": {},
     "output_type": "execute_result"
    }
   ],
   "source": [
    "data = pd.read_csv('data/국민여행조사_전처리_2.csv')\n",
    "data.head() "
   ]
  },
  {
   "cell_type": "code",
   "execution_count": 3,
   "id": "f365505e",
   "metadata": {},
   "outputs": [
    {
     "data": {
      "text/html": [
       "<div>\n",
       "<style scoped>\n",
       "    .dataframe tbody tr th:only-of-type {\n",
       "        vertical-align: middle;\n",
       "    }\n",
       "\n",
       "    .dataframe tbody tr th {\n",
       "        vertical-align: top;\n",
       "    }\n",
       "\n",
       "    .dataframe thead th {\n",
       "        text-align: right;\n",
       "    }\n",
       "</style>\n",
       "<table border=\"1\" class=\"dataframe\">\n",
       "  <thead>\n",
       "    <tr style=\"text-align: right;\">\n",
       "      <th></th>\n",
       "      <th>만족도</th>\n",
       "      <th>재방문의도</th>\n",
       "      <th>타인추천의도</th>\n",
       "    </tr>\n",
       "  </thead>\n",
       "  <tbody>\n",
       "    <tr>\n",
       "      <th>만족도</th>\n",
       "      <td>1.000000</td>\n",
       "      <td>0.524553</td>\n",
       "      <td>0.473374</td>\n",
       "    </tr>\n",
       "    <tr>\n",
       "      <th>재방문의도</th>\n",
       "      <td>0.524553</td>\n",
       "      <td>1.000000</td>\n",
       "      <td>0.578218</td>\n",
       "    </tr>\n",
       "    <tr>\n",
       "      <th>타인추천의도</th>\n",
       "      <td>0.473374</td>\n",
       "      <td>0.578218</td>\n",
       "      <td>1.000000</td>\n",
       "    </tr>\n",
       "  </tbody>\n",
       "</table>\n",
       "</div>"
      ],
      "text/plain": [
       "             만족도     재방문의도    타인추천의도\n",
       "만족도     1.000000  0.524553  0.473374\n",
       "재방문의도   0.524553  1.000000  0.578218\n",
       "타인추천의도  0.473374  0.578218  1.000000"
      ]
     },
     "execution_count": 3,
     "metadata": {},
     "output_type": "execute_result"
    }
   ],
   "source": [
    "correlation = data[['만족도', '재방문의도', '타인추천의도']].corr()\n",
    "correlation"
   ]
  },
  {
   "cell_type": "code",
   "execution_count": 4,
   "id": "ce77924a",
   "metadata": {},
   "outputs": [
    {
     "data": {
      "text/plain": [
       "['경기도 파주시', '강원특별자치도 춘천시', '서울특별시 중구', '인천광역시 중구', '경상남도 통영시']"
      ]
     },
     "execution_count": 4,
     "metadata": {},
     "output_type": "execute_result"
    }
   ],
   "source": [
    "def recommend_places(data, gender, age, companion):\n",
    "    # Filter data based on the input\n",
    "    filtered_data = data[(data['성별'] == gender) & \n",
    "                         (data['연령대'] == age) & \n",
    "                         (data['동반자유형'] == companion)]\n",
    "    \n",
    "    # Sort by rating and select top 15\n",
    "    top_places = filtered_data.sort_values('평점', ascending=False).head(15)\n",
    "    \n",
    "    # Randomly select 5 places\n",
    "    recommended_places = top_places.sample(5)\n",
    "    \n",
    "    return recommended_places\n",
    "\n",
    "# Test the function\n",
    "recommended_places = recommend_places(data, '남', '20대', '비가족')\n",
    "recommended_places_cities = recommended_places['시군구'].tolist()\n",
    "recommended_places_cities"
   ]
  }
 ],
 "metadata": {
  "kernelspec": {
   "display_name": "Python 3 (ipykernel)",
   "language": "python",
   "name": "python3"
  },
  "language_info": {
   "codemirror_mode": {
    "name": "ipython",
    "version": 3
   },
   "file_extension": ".py",
   "mimetype": "text/x-python",
   "name": "python",
   "nbconvert_exporter": "python",
   "pygments_lexer": "ipython3",
   "version": "3.10.9"
  }
 },
 "nbformat": 4,
 "nbformat_minor": 5
}
