{
 "cells": [
  {
   "cell_type": "code",
   "execution_count": 2,
   "id": "aa82fe98",
   "metadata": {},
   "outputs": [],
   "source": [
    "import pandas as pd\n",
    "import json\n",
    "import numpy as np\n",
    "from sklearn.metrics.pairwise import cosine_similarity"
   ]
  },
  {
   "cell_type": "markdown",
   "id": "11f17fb4",
   "metadata": {},
   "source": [
    "### 데이터 전처리"
   ]
  },
  {
   "cell_type": "code",
   "execution_count": 3,
   "id": "aa26f372",
   "metadata": {},
   "outputs": [],
   "source": [
    "df = pd.read_csv('data/전국_시군구_군집.csv')"
   ]
  },
  {
   "cell_type": "code",
   "execution_count": 102,
   "id": "71454e3d",
   "metadata": {},
   "outputs": [
    {
     "data": {
      "text/html": [
       "<div>\n",
       "<style scoped>\n",
       "    .dataframe tbody tr th:only-of-type {\n",
       "        vertical-align: middle;\n",
       "    }\n",
       "\n",
       "    .dataframe tbody tr th {\n",
       "        vertical-align: top;\n",
       "    }\n",
       "\n",
       "    .dataframe thead th {\n",
       "        text-align: right;\n",
       "    }\n",
       "</style>\n",
       "<table border=\"1\" class=\"dataframe\">\n",
       "  <thead>\n",
       "    <tr style=\"text-align: right;\">\n",
       "      <th></th>\n",
       "      <th>시도</th>\n",
       "      <th>시군구</th>\n",
       "      <th>code</th>\n",
       "      <th>average_vector</th>\n",
       "      <th>cluster</th>\n",
       "    </tr>\n",
       "  </thead>\n",
       "  <tbody>\n",
       "    <tr>\n",
       "      <th>0</th>\n",
       "      <td>강원특별자치도</td>\n",
       "      <td>강릉시</td>\n",
       "      <td>42150</td>\n",
       "      <td>[-1.18199806e-02 -3.34065711e-02 -4.17965903e-...</td>\n",
       "      <td>2</td>\n",
       "    </tr>\n",
       "    <tr>\n",
       "      <th>1</th>\n",
       "      <td>강원특별자치도</td>\n",
       "      <td>고성군</td>\n",
       "      <td>42820</td>\n",
       "      <td>[-1.28417256e-02 -3.51729308e-02 -4.12012981e-...</td>\n",
       "      <td>1</td>\n",
       "    </tr>\n",
       "    <tr>\n",
       "      <th>2</th>\n",
       "      <td>강원특별자치도</td>\n",
       "      <td>동해시</td>\n",
       "      <td>42170</td>\n",
       "      <td>[-1.22481304e-02 -3.31160242e-02 -4.15013863e-...</td>\n",
       "      <td>0</td>\n",
       "    </tr>\n",
       "    <tr>\n",
       "      <th>3</th>\n",
       "      <td>강원특별자치도</td>\n",
       "      <td>삼척시</td>\n",
       "      <td>42230</td>\n",
       "      <td>[-1.13522222e-02 -3.37827330e-02 -4.39612169e-...</td>\n",
       "      <td>0</td>\n",
       "    </tr>\n",
       "    <tr>\n",
       "      <th>4</th>\n",
       "      <td>강원특별자치도</td>\n",
       "      <td>속초시</td>\n",
       "      <td>42210</td>\n",
       "      <td>[-1.32145558e-02 -3.37821353e-02 -3.82817238e-...</td>\n",
       "      <td>3</td>\n",
       "    </tr>\n",
       "  </tbody>\n",
       "</table>\n",
       "</div>"
      ],
      "text/plain": [
       "        시도  시군구   code                                     average_vector  \\\n",
       "0  강원특별자치도  강릉시  42150  [-1.18199806e-02 -3.34065711e-02 -4.17965903e-...   \n",
       "1  강원특별자치도  고성군  42820  [-1.28417256e-02 -3.51729308e-02 -4.12012981e-...   \n",
       "2  강원특별자치도  동해시  42170  [-1.22481304e-02 -3.31160242e-02 -4.15013863e-...   \n",
       "3  강원특별자치도  삼척시  42230  [-1.13522222e-02 -3.37827330e-02 -4.39612169e-...   \n",
       "4  강원특별자치도  속초시  42210  [-1.32145558e-02 -3.37821353e-02 -3.82817238e-...   \n",
       "\n",
       "   cluster  \n",
       "0        2  \n",
       "1        1  \n",
       "2        0  \n",
       "3        0  \n",
       "4        3  "
      ]
     },
     "execution_count": 102,
     "metadata": {},
     "output_type": "execute_result"
    }
   ],
   "source": [
    "df.head()"
   ]
  },
  {
   "cell_type": "code",
   "execution_count": 103,
   "id": "19d444d1",
   "metadata": {},
   "outputs": [
    {
     "name": "stdout",
     "output_type": "stream",
     "text": [
      "<class 'pandas.core.frame.DataFrame'>\n",
      "RangeIndex: 250 entries, 0 to 249\n",
      "Data columns (total 5 columns):\n",
      " #   Column          Non-Null Count  Dtype \n",
      "---  ------          --------------  ----- \n",
      " 0   시도              250 non-null    object\n",
      " 1   시군구             250 non-null    object\n",
      " 2   code            250 non-null    int64 \n",
      " 3   average_vector  250 non-null    object\n",
      " 4   cluster         250 non-null    int64 \n",
      "dtypes: int64(2), object(3)\n",
      "memory usage: 9.9+ KB\n"
     ]
    }
   ],
   "source": [
    "df.info()"
   ]
  },
  {
   "cell_type": "code",
   "execution_count": 104,
   "id": "5128d605",
   "metadata": {},
   "outputs": [],
   "source": [
    "df['area'] = df['시도'] + ' ' + df['시군구']"
   ]
  },
  {
   "cell_type": "code",
   "execution_count": 105,
   "id": "0baa89bc",
   "metadata": {},
   "outputs": [],
   "source": [
    "df = df[['area', 'average_vector', 'cluster']]"
   ]
  },
  {
   "cell_type": "code",
   "execution_count": 106,
   "id": "895724b3",
   "metadata": {},
   "outputs": [
    {
     "data": {
      "text/html": [
       "<div>\n",
       "<style scoped>\n",
       "    .dataframe tbody tr th:only-of-type {\n",
       "        vertical-align: middle;\n",
       "    }\n",
       "\n",
       "    .dataframe tbody tr th {\n",
       "        vertical-align: top;\n",
       "    }\n",
       "\n",
       "    .dataframe thead th {\n",
       "        text-align: right;\n",
       "    }\n",
       "</style>\n",
       "<table border=\"1\" class=\"dataframe\">\n",
       "  <thead>\n",
       "    <tr style=\"text-align: right;\">\n",
       "      <th></th>\n",
       "      <th>area</th>\n",
       "      <th>average_vector</th>\n",
       "      <th>cluster</th>\n",
       "    </tr>\n",
       "  </thead>\n",
       "  <tbody>\n",
       "    <tr>\n",
       "      <th>0</th>\n",
       "      <td>강원특별자치도 강릉시</td>\n",
       "      <td>[-1.18199806e-02 -3.34065711e-02 -4.17965903e-...</td>\n",
       "      <td>2</td>\n",
       "    </tr>\n",
       "    <tr>\n",
       "      <th>1</th>\n",
       "      <td>강원특별자치도 고성군</td>\n",
       "      <td>[-1.28417256e-02 -3.51729308e-02 -4.12012981e-...</td>\n",
       "      <td>1</td>\n",
       "    </tr>\n",
       "    <tr>\n",
       "      <th>2</th>\n",
       "      <td>강원특별자치도 동해시</td>\n",
       "      <td>[-1.22481304e-02 -3.31160242e-02 -4.15013863e-...</td>\n",
       "      <td>0</td>\n",
       "    </tr>\n",
       "    <tr>\n",
       "      <th>3</th>\n",
       "      <td>강원특별자치도 삼척시</td>\n",
       "      <td>[-1.13522222e-02 -3.37827330e-02 -4.39612169e-...</td>\n",
       "      <td>0</td>\n",
       "    </tr>\n",
       "    <tr>\n",
       "      <th>4</th>\n",
       "      <td>강원특별자치도 속초시</td>\n",
       "      <td>[-1.32145558e-02 -3.37821353e-02 -3.82817238e-...</td>\n",
       "      <td>3</td>\n",
       "    </tr>\n",
       "  </tbody>\n",
       "</table>\n",
       "</div>"
      ],
      "text/plain": [
       "          area                                     average_vector  cluster\n",
       "0  강원특별자치도 강릉시  [-1.18199806e-02 -3.34065711e-02 -4.17965903e-...        2\n",
       "1  강원특별자치도 고성군  [-1.28417256e-02 -3.51729308e-02 -4.12012981e-...        1\n",
       "2  강원특별자치도 동해시  [-1.22481304e-02 -3.31160242e-02 -4.15013863e-...        0\n",
       "3  강원특별자치도 삼척시  [-1.13522222e-02 -3.37827330e-02 -4.39612169e-...        0\n",
       "4  강원특별자치도 속초시  [-1.32145558e-02 -3.37821353e-02 -3.82817238e-...        3"
      ]
     },
     "execution_count": 106,
     "metadata": {},
     "output_type": "execute_result"
    }
   ],
   "source": [
    "df.head()"
   ]
  },
  {
   "cell_type": "code",
   "execution_count": 107,
   "id": "81a0f5ca",
   "metadata": {},
   "outputs": [
    {
     "name": "stdout",
     "output_type": "stream",
     "text": [
      "<class 'pandas.core.frame.DataFrame'>\n",
      "RangeIndex: 250 entries, 0 to 249\n",
      "Data columns (total 3 columns):\n",
      " #   Column          Non-Null Count  Dtype \n",
      "---  ------          --------------  ----- \n",
      " 0   area            250 non-null    object\n",
      " 1   average_vector  250 non-null    object\n",
      " 2   cluster         250 non-null    int64 \n",
      "dtypes: int64(1), object(2)\n",
      "memory usage: 6.0+ KB\n"
     ]
    }
   ],
   "source": [
    "df.info()"
   ]
  },
  {
   "cell_type": "code",
   "execution_count": 108,
   "id": "ad06acea",
   "metadata": {},
   "outputs": [],
   "source": [
    "df.to_csv('data/area_clustering_result.csv', encoding='utf-8-sig', index=False)"
   ]
  },
  {
   "cell_type": "markdown",
   "id": "009dc6fd",
   "metadata": {},
   "source": [
    "### 추천 알고리즘"
   ]
  },
  {
   "cell_type": "code",
   "execution_count": 3,
   "id": "999528c1",
   "metadata": {},
   "outputs": [],
   "source": [
    "df = pd.read_csv(\"data/area_clustering_result.csv\")\n",
    "data = json.load(open('data/survey_data_sample.json'))"
   ]
  },
  {
   "cell_type": "code",
   "execution_count": 4,
   "id": "1ed25808",
   "metadata": {},
   "outputs": [
    {
     "data": {
      "text/html": [
       "<div>\n",
       "<style scoped>\n",
       "    .dataframe tbody tr th:only-of-type {\n",
       "        vertical-align: middle;\n",
       "    }\n",
       "\n",
       "    .dataframe tbody tr th {\n",
       "        vertical-align: top;\n",
       "    }\n",
       "\n",
       "    .dataframe thead th {\n",
       "        text-align: right;\n",
       "    }\n",
       "</style>\n",
       "<table border=\"1\" class=\"dataframe\">\n",
       "  <thead>\n",
       "    <tr style=\"text-align: right;\">\n",
       "      <th></th>\n",
       "      <th>area</th>\n",
       "      <th>average_vector</th>\n",
       "      <th>cluster</th>\n",
       "    </tr>\n",
       "  </thead>\n",
       "  <tbody>\n",
       "    <tr>\n",
       "      <th>0</th>\n",
       "      <td>강원특별자치도 강릉시</td>\n",
       "      <td>[-1.18199806e-02 -3.34065711e-02 -4.17965903e-...</td>\n",
       "      <td>2</td>\n",
       "    </tr>\n",
       "    <tr>\n",
       "      <th>1</th>\n",
       "      <td>강원특별자치도 고성군</td>\n",
       "      <td>[-1.28417256e-02 -3.51729308e-02 -4.12012981e-...</td>\n",
       "      <td>1</td>\n",
       "    </tr>\n",
       "    <tr>\n",
       "      <th>2</th>\n",
       "      <td>강원특별자치도 동해시</td>\n",
       "      <td>[-1.22481304e-02 -3.31160242e-02 -4.15013863e-...</td>\n",
       "      <td>0</td>\n",
       "    </tr>\n",
       "    <tr>\n",
       "      <th>3</th>\n",
       "      <td>강원특별자치도 삼척시</td>\n",
       "      <td>[-1.13522222e-02 -3.37827330e-02 -4.39612169e-...</td>\n",
       "      <td>0</td>\n",
       "    </tr>\n",
       "    <tr>\n",
       "      <th>4</th>\n",
       "      <td>강원특별자치도 속초시</td>\n",
       "      <td>[-1.32145558e-02 -3.37821353e-02 -3.82817238e-...</td>\n",
       "      <td>3</td>\n",
       "    </tr>\n",
       "  </tbody>\n",
       "</table>\n",
       "</div>"
      ],
      "text/plain": [
       "          area                                     average_vector  cluster\n",
       "0  강원특별자치도 강릉시  [-1.18199806e-02 -3.34065711e-02 -4.17965903e-...        2\n",
       "1  강원특별자치도 고성군  [-1.28417256e-02 -3.51729308e-02 -4.12012981e-...        1\n",
       "2  강원특별자치도 동해시  [-1.22481304e-02 -3.31160242e-02 -4.15013863e-...        0\n",
       "3  강원특별자치도 삼척시  [-1.13522222e-02 -3.37827330e-02 -4.39612169e-...        0\n",
       "4  강원특별자치도 속초시  [-1.32145558e-02 -3.37821353e-02 -3.82817238e-...        3"
      ]
     },
     "execution_count": 4,
     "metadata": {},
     "output_type": "execute_result"
    }
   ],
   "source": [
    "df.head()"
   ]
  },
  {
   "cell_type": "code",
   "execution_count": 5,
   "id": "2f2a0b03",
   "metadata": {},
   "outputs": [
    {
     "name": "stdout",
     "output_type": "stream",
     "text": [
      "<class 'pandas.core.frame.DataFrame'>\n",
      "RangeIndex: 250 entries, 0 to 249\n",
      "Data columns (total 3 columns):\n",
      " #   Column          Non-Null Count  Dtype \n",
      "---  ------          --------------  ----- \n",
      " 0   area            250 non-null    object\n",
      " 1   average_vector  250 non-null    object\n",
      " 2   cluster         250 non-null    int64 \n",
      "dtypes: int64(1), object(2)\n",
      "memory usage: 6.0+ KB\n"
     ]
    }
   ],
   "source": [
    "df.info()"
   ]
  },
  {
   "cell_type": "code",
   "execution_count": 6,
   "id": "e80e8482",
   "metadata": {},
   "outputs": [
    {
     "data": {
      "text/plain": [
       "{'gender': 'F',\n",
       " 'age': '6',\n",
       " 'myarea_1': '전라북도 전주시 덕진구',\n",
       " 'myarea_2': '충청북도 청주시 상당구',\n",
       " 'myarea_3': '경상남도 창원시 의창구'}"
      ]
     },
     "execution_count": 6,
     "metadata": {},
     "output_type": "execute_result"
    }
   ],
   "source": [
    "data"
   ]
  },
  {
   "cell_type": "code",
   "execution_count": 7,
   "id": "9b02b490",
   "metadata": {},
   "outputs": [],
   "source": [
    "# 군집화 결과 및 유사도 기반 지역 추천 함수\n",
    "def recommend_areas(cluster_df, survey_data):\n",
    "    # 문자열 표현의 average_vector를 실제 numpy 배열로 변환\n",
    "    cluster_df['average_vector'] = cluster_df['average_vector'].apply(lambda vector_str: np.array([float(num) for num in vector_str[1:-1].split()]))\n",
    "    similar_areas = pd.DataFrame()\n",
    "    input_areas = []\n",
    "    # JSON 파일의 각 지역에 대해\n",
    "    for myarea in ['myarea_1', 'myarea_2', 'myarea_3']:\n",
    "        # 지역이 비어있지 않다면\n",
    "        if survey_data[myarea]:\n",
    "            # 지역의 군집 값을 cluster에 저장\n",
    "            cluster = cluster_df[cluster_df['area'] == survey_data[myarea]]['cluster'].values[0]\n",
    "            # 지역의 평균 벡터를 area_vector에 저장\n",
    "            area_vector = cluster_df[cluster_df['area'] == survey_data[myarea]]['average_vector'].values[0]\n",
    "            # 지역과 같은 군집에 속하는 모든 지역의 행을 same_cluster에 저장\n",
    "            same_cluster = cluster_df[cluster_df['cluster'] == cluster].copy()  \n",
    "            # 지역과 같은 군집의 다른 지역들 사이의 코사인 유사도 계산\n",
    "            same_cluster['similarity'] = same_cluster['average_vector'].apply(lambda x: cosine_similarity(area_vector.reshape(1, -1), x.reshape(1, -1))[0][0])\n",
    "            # same_cluster에서 입력 지역 제거\n",
    "            same_cluster = same_cluster[same_cluster['area'] != survey_data[myarea]]\n",
    "            # same_cluster를 similar_areas에 추가\n",
    "            similar_areas = pd.concat([similar_areas, same_cluster])\n",
    "            # 입력한 지역을 리스트에 추가\n",
    "            input_areas.append(survey_data[myarea])           \n",
    "    # 입력한 모든 지역을 similar_areas에서 제거\n",
    "    for area in input_areas:\n",
    "        similar_areas = similar_areas[similar_areas['area'] != area]     \n",
    "    # 중복된 행 제거: 각 지역에 대해 유사도가 가장 높은 행만 남김\n",
    "    similar_areas = similar_areas.sort_values('similarity', ascending=False).drop_duplicates('area')\n",
    "    # 입력한 모든 지역과 같은 군집에 속하는 지역들을 유사도가 높은 순으로 정렬하고 상위 5개의 지역 추출\n",
    "    top_5_areas = similar_areas.sort_values('similarity', ascending=False)['area'].values[:5]\n",
    "    return top_5_areas"
   ]
  },
  {
   "cell_type": "code",
   "execution_count": 8,
   "id": "a38a8045",
   "metadata": {},
   "outputs": [],
   "source": [
    "top_5_areas = recommend_areas(df, data)"
   ]
  },
  {
   "cell_type": "code",
   "execution_count": 9,
   "id": "2a63f7e4",
   "metadata": {},
   "outputs": [
    {
     "name": "stdout",
     "output_type": "stream",
     "text": [
      "['경상남도 창원시 성산구' '전라북도 익산시' '세종특별자치시 세종시' '경기도 수원시 장안구' '경상북도 포항시 남구']\n"
     ]
    }
   ],
   "source": [
    "print(top_5_areas)"
   ]
  }
 ],
 "metadata": {
  "kernelspec": {
   "display_name": "Python 3 (ipykernel)",
   "language": "python",
   "name": "python3"
  },
  "language_info": {
   "codemirror_mode": {
    "name": "ipython",
    "version": 3
   },
   "file_extension": ".py",
   "mimetype": "text/x-python",
   "name": "python",
   "nbconvert_exporter": "python",
   "pygments_lexer": "ipython3",
   "version": "3.10.9"
  }
 },
 "nbformat": 4,
 "nbformat_minor": 5
}
