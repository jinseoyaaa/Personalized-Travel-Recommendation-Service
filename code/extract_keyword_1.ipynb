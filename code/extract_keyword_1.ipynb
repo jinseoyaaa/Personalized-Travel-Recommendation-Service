{
 "cells": [
  {
   "cell_type": "code",
   "execution_count": 1,
   "id": "7db482e7",
   "metadata": {},
   "outputs": [],
   "source": [
    "import pandas as pd\n",
    "from keybert import KeyBERT\n",
    "from collections import Counter\n",
    "from tqdm import tqdm"
   ]
  },
  {
   "cell_type": "code",
   "execution_count": 13,
   "id": "ad359b98",
   "metadata": {},
   "outputs": [],
   "source": [
    "df = pd.read_csv('data/충청북도_전처리_2.csv')"
   ]
  },
  {
   "cell_type": "code",
   "execution_count": 14,
   "id": "af08403c",
   "metadata": {},
   "outputs": [
    {
     "data": {
      "text/html": [
       "<div>\n",
       "<style scoped>\n",
       "    .dataframe tbody tr th:only-of-type {\n",
       "        vertical-align: middle;\n",
       "    }\n",
       "\n",
       "    .dataframe tbody tr th {\n",
       "        vertical-align: top;\n",
       "    }\n",
       "\n",
       "    .dataframe thead th {\n",
       "        text-align: right;\n",
       "    }\n",
       "</style>\n",
       "<table border=\"1\" class=\"dataframe\">\n",
       "  <thead>\n",
       "    <tr style=\"text-align: right;\">\n",
       "      <th></th>\n",
       "      <th>시도</th>\n",
       "      <th>시군구</th>\n",
       "      <th>code</th>\n",
       "      <th>token</th>\n",
       "    </tr>\n",
       "  </thead>\n",
       "  <tbody>\n",
       "    <tr>\n",
       "      <th>0</th>\n",
       "      <td>충청북도</td>\n",
       "      <td>괴산군</td>\n",
       "      <td>43760</td>\n",
       "      <td>광 저수지 은행나무 길 국내 가을 광 저수지 은행나무 길 광 저수지 은행나무 절정 ...</td>\n",
       "    </tr>\n",
       "    <tr>\n",
       "      <th>1</th>\n",
       "      <td>충청북도</td>\n",
       "      <td>괴산군</td>\n",
       "      <td>43760</td>\n",
       "      <td>군별 팔경 목록 여행명소 명소 군별 경 목록 정리 상당산성 둘러싸이다 구름 무심천 ...</td>\n",
       "    </tr>\n",
       "    <tr>\n",
       "      <th>2</th>\n",
       "      <td>충청북도</td>\n",
       "      <td>괴산군</td>\n",
       "      <td>43760</td>\n",
       "      <td>이야기 결과 후기 기간 수목 박일 여정 중부 지역 특이 사항 은퇴 부부 차 역사 인...</td>\n",
       "    </tr>\n",
       "  </tbody>\n",
       "</table>\n",
       "</div>"
      ],
      "text/plain": [
       "     시도  시군구   code                                              token\n",
       "0  충청북도  괴산군  43760  광 저수지 은행나무 길 국내 가을 광 저수지 은행나무 길 광 저수지 은행나무 절정 ...\n",
       "1  충청북도  괴산군  43760  군별 팔경 목록 여행명소 명소 군별 경 목록 정리 상당산성 둘러싸이다 구름 무심천 ...\n",
       "2  충청북도  괴산군  43760  이야기 결과 후기 기간 수목 박일 여정 중부 지역 특이 사항 은퇴 부부 차 역사 인..."
      ]
     },
     "execution_count": 14,
     "metadata": {},
     "output_type": "execute_result"
    }
   ],
   "source": [
    "df.head(3)"
   ]
  },
  {
   "cell_type": "code",
   "execution_count": 15,
   "id": "86c9a7a4",
   "metadata": {},
   "outputs": [
    {
     "name": "stdout",
     "output_type": "stream",
     "text": [
      "<class 'pandas.core.frame.DataFrame'>\n",
      "RangeIndex: 4023 entries, 0 to 4022\n",
      "Data columns (total 4 columns):\n",
      " #   Column  Non-Null Count  Dtype \n",
      "---  ------  --------------  ----- \n",
      " 0   시도      4023 non-null   object\n",
      " 1   시군구     4023 non-null   object\n",
      " 2   code    4023 non-null   int64 \n",
      " 3   token   4023 non-null   object\n",
      "dtypes: int64(1), object(3)\n",
      "memory usage: 125.8+ KB\n"
     ]
    }
   ],
   "source": [
    "df.info()"
   ]
  },
  {
   "cell_type": "code",
   "execution_count": 16,
   "id": "b51b3aba",
   "metadata": {},
   "outputs": [],
   "source": [
    "# KeyBERT를 활용한 키워드 추출 함수\n",
    "def keybert_extract_keywords(text, top_n=20):\n",
    "    # KeyBERT 초기화\n",
    "    model = KeyBERT(model=\"all-MiniLM-L6-v2\") \n",
    "    # 각 문서별 상위 top_n개 키워드와 스코어 추출\n",
    "    keyword_score = model.extract_keywords(text, keyphrase_ngram_range=(1, 1), top_n=top_n)\n",
    "    # 추출된 키워드를 공백을 이용해 문자열로 결합\n",
    "    keywords = ' '.join(keyword for keyword, score in keyword_score)\n",
    "    return keywords"
   ]
  },
  {
   "cell_type": "code",
   "execution_count": 17,
   "id": "dfa7697f",
   "metadata": {},
   "outputs": [],
   "source": [
    "# 빈도수 기반 키워드 추출 함수\n",
    "def extract_top_keywords(text, top_n=10):\n",
    "    words = text.split()\n",
    "    word_counts = Counter(words)\n",
    "    keywords = ' '.join(word for word, _ in word_counts.most_common(top_n))\n",
    "    return keywords"
   ]
  },
  {
   "cell_type": "code",
   "execution_count": 18,
   "id": "8d86fdb4",
   "metadata": {},
   "outputs": [
    {
     "name": "stderr",
     "output_type": "stream",
     "text": [
      "100%|████████████████████████████████████████████████████████████████████████████| 4023/4023 [1:54:00<00:00,  1.70s/it]\n",
      "100%|████████████████████████████████████████████████████████████████████████████| 4023/4023 [00:01<00:00, 3682.53it/s]\n"
     ]
    }
   ],
   "source": [
    "tqdm.pandas()\n",
    "\n",
    "# 함수 실행\n",
    "df['keyword1'] = df['token'].progress_apply(keybert_extract_keywords)\n",
    "df['keyword2'] = df['token'].progress_apply(extract_top_keywords)"
   ]
  },
  {
   "cell_type": "code",
   "execution_count": 19,
   "id": "1051b125",
   "metadata": {},
   "outputs": [],
   "source": [
    "# 키워드 병합 및 중복 제거\n",
    "df['keyword'] = df.apply(lambda row: ' '.join(set((row['keyword1'] + ' ' + row['keyword2']).split())), axis=1)"
   ]
  },
  {
   "cell_type": "code",
   "execution_count": 20,
   "id": "a1bc6c80",
   "metadata": {},
   "outputs": [],
   "source": [
    "df = df[['시도', '시군구', 'code', 'token', 'keyword']]"
   ]
  },
  {
   "cell_type": "code",
   "execution_count": 21,
   "id": "062cfe77",
   "metadata": {},
   "outputs": [
    {
     "data": {
      "text/html": [
       "<div>\n",
       "<style scoped>\n",
       "    .dataframe tbody tr th:only-of-type {\n",
       "        vertical-align: middle;\n",
       "    }\n",
       "\n",
       "    .dataframe tbody tr th {\n",
       "        vertical-align: top;\n",
       "    }\n",
       "\n",
       "    .dataframe thead th {\n",
       "        text-align: right;\n",
       "    }\n",
       "</style>\n",
       "<table border=\"1\" class=\"dataframe\">\n",
       "  <thead>\n",
       "    <tr style=\"text-align: right;\">\n",
       "      <th></th>\n",
       "      <th>시도</th>\n",
       "      <th>시군구</th>\n",
       "      <th>code</th>\n",
       "      <th>token</th>\n",
       "      <th>keyword</th>\n",
       "    </tr>\n",
       "  </thead>\n",
       "  <tbody>\n",
       "    <tr>\n",
       "      <th>0</th>\n",
       "      <td>충청북도</td>\n",
       "      <td>괴산군</td>\n",
       "      <td>43760</td>\n",
       "      <td>광 저수지 은행나무 길 국내 가을 광 저수지 은행나무 길 광 저수지 은행나무 절정 ...</td>\n",
       "      <td>절정 산책 생산 방문객 문광 캠핑장 저수지 문광면 가을 줄이다 명상 많다 농작물 단...</td>\n",
       "    </tr>\n",
       "    <tr>\n",
       "      <th>1</th>\n",
       "      <td>충청북도</td>\n",
       "      <td>괴산군</td>\n",
       "      <td>43760</td>\n",
       "      <td>군별 팔경 목록 여행명소 명소 군별 경 목록 정리 상당산성 둘러싸이다 구름 무심천 ...</td>\n",
       "      <td>암 문장 노을 저녁 무심천 천팔경 달 구성지다 명소 삼년산성 천정 속리산 소리 구름...</td>\n",
       "    </tr>\n",
       "    <tr>\n",
       "      <th>2</th>\n",
       "      <td>충청북도</td>\n",
       "      <td>괴산군</td>\n",
       "      <td>43760</td>\n",
       "      <td>이야기 결과 후기 기간 수목 박일 여정 중부 지역 특이 사항 은퇴 부부 차 역사 인...</td>\n",
       "      <td>청동기 이화숙 금속활자 마을 전시관 세종대왕 전시 도착 걸리다 삼년산성 불조직지심체...</td>\n",
       "    </tr>\n",
       "  </tbody>\n",
       "</table>\n",
       "</div>"
      ],
      "text/plain": [
       "     시도  시군구   code                                              token  \\\n",
       "0  충청북도  괴산군  43760  광 저수지 은행나무 길 국내 가을 광 저수지 은행나무 길 광 저수지 은행나무 절정 ...   \n",
       "1  충청북도  괴산군  43760  군별 팔경 목록 여행명소 명소 군별 경 목록 정리 상당산성 둘러싸이다 구름 무심천 ...   \n",
       "2  충청북도  괴산군  43760  이야기 결과 후기 기간 수목 박일 여정 중부 지역 특이 사항 은퇴 부부 차 역사 인...   \n",
       "\n",
       "                                             keyword  \n",
       "0  절정 산책 생산 방문객 문광 캠핑장 저수지 문광면 가을 줄이다 명상 많다 농작물 단...  \n",
       "1  암 문장 노을 저녁 무심천 천팔경 달 구성지다 명소 삼년산성 천정 속리산 소리 구름...  \n",
       "2  청동기 이화숙 금속활자 마을 전시관 세종대왕 전시 도착 걸리다 삼년산성 불조직지심체...  "
      ]
     },
     "execution_count": 21,
     "metadata": {},
     "output_type": "execute_result"
    }
   ],
   "source": [
    "df.head(3)"
   ]
  },
  {
   "cell_type": "code",
   "execution_count": 22,
   "id": "a60601f4",
   "metadata": {},
   "outputs": [
    {
     "name": "stdout",
     "output_type": "stream",
     "text": [
      "<class 'pandas.core.frame.DataFrame'>\n",
      "RangeIndex: 4023 entries, 0 to 4022\n",
      "Data columns (total 5 columns):\n",
      " #   Column   Non-Null Count  Dtype \n",
      "---  ------   --------------  ----- \n",
      " 0   시도       4023 non-null   object\n",
      " 1   시군구      4023 non-null   object\n",
      " 2   code     4023 non-null   int64 \n",
      " 3   token    4023 non-null   object\n",
      " 4   keyword  4023 non-null   object\n",
      "dtypes: int64(1), object(4)\n",
      "memory usage: 157.3+ KB\n"
     ]
    }
   ],
   "source": [
    "df.info()"
   ]
  },
  {
   "cell_type": "code",
   "execution_count": 23,
   "id": "8a2ea9f2",
   "metadata": {},
   "outputs": [],
   "source": [
    "df.to_csv('data/충청북도_키워드.csv', encoding='utf-8-sig', index=False)"
   ]
  }
 ],
 "metadata": {
  "kernelspec": {
   "display_name": "Python 3 (ipykernel)",
   "language": "python",
   "name": "python3"
  },
  "language_info": {
   "codemirror_mode": {
    "name": "ipython",
    "version": 3
   },
   "file_extension": ".py",
   "mimetype": "text/x-python",
   "name": "python",
   "nbconvert_exporter": "python",
   "pygments_lexer": "ipython3",
   "version": "3.10.9"
  }
 },
 "nbformat": 4,
 "nbformat_minor": 5
}
