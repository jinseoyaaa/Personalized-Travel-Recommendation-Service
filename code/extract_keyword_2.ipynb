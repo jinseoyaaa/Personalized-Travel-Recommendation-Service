{
 "cells": [
  {
   "cell_type": "code",
   "execution_count": 1,
   "id": "8f75e1db",
   "metadata": {},
   "outputs": [],
   "source": [
    "import pandas as pd\n",
    "from sklearn.feature_extraction.text import TfidfVectorizer\n",
    "import numpy as np"
   ]
  },
  {
   "cell_type": "code",
   "execution_count": 2,
   "id": "90ad0871",
   "metadata": {},
   "outputs": [],
   "source": [
    "# CSV 파일 목록\n",
    "csv_files = ['data/강원특별자치도_키워드.csv', 'data/경기도_키워드.csv', 'data/경상남도_키워드.csv', 'data/경상북도_키워드.csv', \n",
    "             'data/광주광역시_키워드.csv', 'data/대구광역시_키워드.csv', 'data/대전광역시_키워드.csv', 'data/부산광역시_키워드.csv', \n",
    "             'data/서울특별시_키워드.csv', 'data/세종특별자치시_키워드.csv', 'data/울산광역시_키워드.csv', 'data/인천광역시_키워드.csv', \n",
    "             'data/전라남도_키워드.csv', 'data/전라북도_키워드.csv', 'data/제주특별자치도_키워드.csv', 'data/충청남도_키워드.csv', \n",
    "             'data/충청북도_키워드.csv']\n",
    "\n",
    "# 모든 CSV 파일을 리스트에 저장\n",
    "all_dfs = []\n",
    "for file in csv_files:\n",
    "    df = pd.read_csv(file)\n",
    "    all_dfs.append(df)\n",
    "    \n",
    "# 모든 CSV 파일을 하나의 데이터프레임으로 합치기\n",
    "all_df = pd.concat(all_dfs, ignore_index=True)"
   ]
  },
  {
   "cell_type": "code",
   "execution_count": 3,
   "id": "be137653",
   "metadata": {},
   "outputs": [
    {
     "name": "stdout",
     "output_type": "stream",
     "text": [
      "<class 'pandas.core.frame.DataFrame'>\n",
      "RangeIndex: 70446 entries, 0 to 70445\n",
      "Data columns (total 5 columns):\n",
      " #   Column   Non-Null Count  Dtype \n",
      "---  ------   --------------  ----- \n",
      " 0   시도       70446 non-null  object\n",
      " 1   시군구      70446 non-null  object\n",
      " 2   code     70446 non-null  int64 \n",
      " 3   token    70446 non-null  object\n",
      " 4   keyword  70446 non-null  object\n",
      "dtypes: int64(1), object(4)\n",
      "memory usage: 2.7+ MB\n"
     ]
    }
   ],
   "source": [
    "all_df.info()"
   ]
  },
  {
   "cell_type": "code",
   "execution_count": 4,
   "id": "e87750eb",
   "metadata": {},
   "outputs": [],
   "source": [
    "grouped_all_df = all_df.groupby(['시도', '시군구', 'code'])['keyword'].apply(' '.join).reset_index()"
   ]
  },
  {
   "cell_type": "code",
   "execution_count": 5,
   "id": "db7e9843",
   "metadata": {},
   "outputs": [
    {
     "data": {
      "text/html": [
       "<div>\n",
       "<style scoped>\n",
       "    .dataframe tbody tr th:only-of-type {\n",
       "        vertical-align: middle;\n",
       "    }\n",
       "\n",
       "    .dataframe tbody tr th {\n",
       "        vertical-align: top;\n",
       "    }\n",
       "\n",
       "    .dataframe thead th {\n",
       "        text-align: right;\n",
       "    }\n",
       "</style>\n",
       "<table border=\"1\" class=\"dataframe\">\n",
       "  <thead>\n",
       "    <tr style=\"text-align: right;\">\n",
       "      <th></th>\n",
       "      <th>시도</th>\n",
       "      <th>시군구</th>\n",
       "      <th>code</th>\n",
       "      <th>keyword</th>\n",
       "    </tr>\n",
       "  </thead>\n",
       "  <tbody>\n",
       "    <tr>\n",
       "      <th>0</th>\n",
       "      <td>강원특별자치도</td>\n",
       "      <td>강릉시</td>\n",
       "      <td>42150</td>\n",
       "      <td>변동 강동면 미술관 바다 입장료 왕복 대관령 주차장 박물관 정동 오죽헌 심곡 정동진...</td>\n",
       "    </tr>\n",
       "    <tr>\n",
       "      <th>1</th>\n",
       "      <td>강원특별자치도</td>\n",
       "      <td>고성군</td>\n",
       "      <td>42820</td>\n",
       "      <td>적당하다 동해안 중요하다 아침 순서대로 먹다 유명하다 찜 무지개 소문나다 둘째 행복...</td>\n",
       "    </tr>\n",
       "    <tr>\n",
       "      <th>2</th>\n",
       "      <td>강원특별자치도</td>\n",
       "      <td>동해시</td>\n",
       "      <td>42170</td>\n",
       "      <td>용이하다 동해 여름 울퉁불퉁하다 추천 설치다 평평하다 장의 황금박쥐 신기하다 동굴 ...</td>\n",
       "    </tr>\n",
       "    <tr>\n",
       "      <th>3</th>\n",
       "      <td>강원특별자치도</td>\n",
       "      <td>삼척시</td>\n",
       "      <td>42230</td>\n",
       "      <td>동화책 완벽하다 알차다 전시관 건강하다 방문객 알록달록하다 온천 안전하다 초등학생 ...</td>\n",
       "    </tr>\n",
       "    <tr>\n",
       "      <th>4</th>\n",
       "      <td>강원특별자치도</td>\n",
       "      <td>속초시</td>\n",
       "      <td>42210</td>\n",
       "      <td>적당하다 동해안 중요하다 아침 순서대로 먹다 유명하다 찜 무지개 소문나다 둘째 행복...</td>\n",
       "    </tr>\n",
       "  </tbody>\n",
       "</table>\n",
       "</div>"
      ],
      "text/plain": [
       "        시도  시군구   code                                            keyword\n",
       "0  강원특별자치도  강릉시  42150  변동 강동면 미술관 바다 입장료 왕복 대관령 주차장 박물관 정동 오죽헌 심곡 정동진...\n",
       "1  강원특별자치도  고성군  42820  적당하다 동해안 중요하다 아침 순서대로 먹다 유명하다 찜 무지개 소문나다 둘째 행복...\n",
       "2  강원특별자치도  동해시  42170  용이하다 동해 여름 울퉁불퉁하다 추천 설치다 평평하다 장의 황금박쥐 신기하다 동굴 ...\n",
       "3  강원특별자치도  삼척시  42230  동화책 완벽하다 알차다 전시관 건강하다 방문객 알록달록하다 온천 안전하다 초등학생 ...\n",
       "4  강원특별자치도  속초시  42210  적당하다 동해안 중요하다 아침 순서대로 먹다 유명하다 찜 무지개 소문나다 둘째 행복..."
      ]
     },
     "execution_count": 5,
     "metadata": {},
     "output_type": "execute_result"
    }
   ],
   "source": [
    "grouped_all_df.head()"
   ]
  },
  {
   "cell_type": "code",
   "execution_count": 6,
   "id": "50a6df6b",
   "metadata": {},
   "outputs": [
    {
     "name": "stdout",
     "output_type": "stream",
     "text": [
      "<class 'pandas.core.frame.DataFrame'>\n",
      "RangeIndex: 250 entries, 0 to 249\n",
      "Data columns (total 4 columns):\n",
      " #   Column   Non-Null Count  Dtype \n",
      "---  ------   --------------  ----- \n",
      " 0   시도       250 non-null    object\n",
      " 1   시군구      250 non-null    object\n",
      " 2   code     250 non-null    int64 \n",
      " 3   keyword  250 non-null    object\n",
      "dtypes: int64(1), object(3)\n",
      "memory usage: 7.9+ KB\n"
     ]
    }
   ],
   "source": [
    "grouped_all_df.info()"
   ]
  },
  {
   "cell_type": "code",
   "execution_count": 7,
   "id": "de0f8090",
   "metadata": {},
   "outputs": [],
   "source": [
    "tfidf_vectorizer = TfidfVectorizer()\n",
    "\n",
    "# TF-IDF 행렬 계산\n",
    "tfidf_matrix = tfidf_vectorizer.fit_transform(grouped_all_df['keyword'])"
   ]
  },
  {
   "cell_type": "code",
   "execution_count": 8,
   "id": "d7cd7d55",
   "metadata": {},
   "outputs": [
    {
     "data": {
      "text/plain": [
       "<250x56494 sparse matrix of type '<class 'numpy.float64'>'\n",
       "\twith 764337 stored elements in Compressed Sparse Row format>"
      ]
     },
     "execution_count": 8,
     "metadata": {},
     "output_type": "execute_result"
    }
   ],
   "source": [
    "tfidf_matrix"
   ]
  },
  {
   "cell_type": "code",
   "execution_count": 9,
   "id": "9dde6e31",
   "metadata": {},
   "outputs": [],
   "source": [
    "# 키워드 추출 함수 정의\n",
    "def tfidf_extract_keywords(tfidf_vectorizer, tfidf_matrix, top_n):\n",
    "    # TF-IDF 행렬을 Numpy 배열로 변환\n",
    "    tfidf_array = tfidf_matrix.toarray()\n",
    "    feature_names = tfidf_vectorizer.get_feature_names_out()\n",
    "    keywords = []\n",
    "    for row in tfidf_array:\n",
    "        # TF-IDF 값이 0이 아닌 인덱스 추출\n",
    "        non_zero_idx = np.flatnonzero(row)  \n",
    "        # top_n과 0이 아닌 인덱스 수 중 작은 값 선택\n",
    "        n = min(top_n, non_zero_idx.size)\n",
    "        # 상위 n개 키워드 인덱스 추출\n",
    "        keywords_idx = non_zero_idx[np.argsort(row[non_zero_idx])[-n:]] \n",
    "        # 상위 n개 키워드 추출\n",
    "        keywords.append(' '.join([feature_names[idx] for idx in keywords_idx]))\n",
    "    return keywords"
   ]
  },
  {
   "cell_type": "code",
   "execution_count": 10,
   "id": "30144afd",
   "metadata": {},
   "outputs": [],
   "source": [
    "# tfidf_extract_keywords 함수 적용\n",
    "top_keywords = tfidf_extract_keywords(tfidf_vectorizer, tfidf_matrix, top_n=3000)"
   ]
  },
  {
   "cell_type": "code",
   "execution_count": 11,
   "id": "6d8752d9",
   "metadata": {},
   "outputs": [],
   "source": [
    "grouped_all_df['keyword'] = top_keywords"
   ]
  },
  {
   "cell_type": "code",
   "execution_count": 12,
   "id": "213532ec",
   "metadata": {},
   "outputs": [
    {
     "data": {
      "text/html": [
       "<div>\n",
       "<style scoped>\n",
       "    .dataframe tbody tr th:only-of-type {\n",
       "        vertical-align: middle;\n",
       "    }\n",
       "\n",
       "    .dataframe tbody tr th {\n",
       "        vertical-align: top;\n",
       "    }\n",
       "\n",
       "    .dataframe thead th {\n",
       "        text-align: right;\n",
       "    }\n",
       "</style>\n",
       "<table border=\"1\" class=\"dataframe\">\n",
       "  <thead>\n",
       "    <tr style=\"text-align: right;\">\n",
       "      <th></th>\n",
       "      <th>시도</th>\n",
       "      <th>시군구</th>\n",
       "      <th>code</th>\n",
       "      <th>keyword</th>\n",
       "    </tr>\n",
       "  </thead>\n",
       "  <tbody>\n",
       "    <tr>\n",
       "      <th>0</th>\n",
       "      <td>강원특별자치도</td>\n",
       "      <td>강릉시</td>\n",
       "      <td>42150</td>\n",
       "      <td>면사무소 로컬 미니 소장 희망이 런치 랜드마크 허브 지평선 연결하다 유형문화재 경쟁...</td>\n",
       "    </tr>\n",
       "    <tr>\n",
       "      <th>1</th>\n",
       "      <td>강원특별자치도</td>\n",
       "      <td>고성군</td>\n",
       "      <td>42820</td>\n",
       "      <td>대표 벚꽃 조명 마당 공연장 항상 모형 검색 특징 생태 촉촉하다 가성 사진촬영 힐링...</td>\n",
       "    </tr>\n",
       "    <tr>\n",
       "      <th>2</th>\n",
       "      <td>강원특별자치도</td>\n",
       "      <td>동해시</td>\n",
       "      <td>42170</td>\n",
       "      <td>당연하다 주소 전혀 전국 조선시대 건물 주변 운치 대표 벚꽃 자연환경 자리 생명 연...</td>\n",
       "    </tr>\n",
       "    <tr>\n",
       "      <th>3</th>\n",
       "      <td>강원특별자치도</td>\n",
       "      <td>삼척시</td>\n",
       "      <td>42230</td>\n",
       "      <td>여전하다 오늘 가을 성하다 역사 정갈하다 일상 대충 차다 검색 새롭다 내용 갈다 익...</td>\n",
       "    </tr>\n",
       "    <tr>\n",
       "      <th>4</th>\n",
       "      <td>강원특별자치도</td>\n",
       "      <td>속초시</td>\n",
       "      <td>42210</td>\n",
       "      <td>이루다 번의 몽환 화려하다 길어지다 용하다 싱겁다 커피한잔 평일 어린이집 전의 돈까...</td>\n",
       "    </tr>\n",
       "  </tbody>\n",
       "</table>\n",
       "</div>"
      ],
      "text/plain": [
       "        시도  시군구   code                                            keyword\n",
       "0  강원특별자치도  강릉시  42150  면사무소 로컬 미니 소장 희망이 런치 랜드마크 허브 지평선 연결하다 유형문화재 경쟁...\n",
       "1  강원특별자치도  고성군  42820  대표 벚꽃 조명 마당 공연장 항상 모형 검색 특징 생태 촉촉하다 가성 사진촬영 힐링...\n",
       "2  강원특별자치도  동해시  42170  당연하다 주소 전혀 전국 조선시대 건물 주변 운치 대표 벚꽃 자연환경 자리 생명 연...\n",
       "3  강원특별자치도  삼척시  42230  여전하다 오늘 가을 성하다 역사 정갈하다 일상 대충 차다 검색 새롭다 내용 갈다 익...\n",
       "4  강원특별자치도  속초시  42210  이루다 번의 몽환 화려하다 길어지다 용하다 싱겁다 커피한잔 평일 어린이집 전의 돈까..."
      ]
     },
     "execution_count": 12,
     "metadata": {},
     "output_type": "execute_result"
    }
   ],
   "source": [
    "grouped_all_df.head()"
   ]
  },
  {
   "cell_type": "code",
   "execution_count": 14,
   "id": "b9858555",
   "metadata": {},
   "outputs": [
    {
     "name": "stdout",
     "output_type": "stream",
     "text": [
      "<class 'pandas.core.frame.DataFrame'>\n",
      "RangeIndex: 250 entries, 0 to 249\n",
      "Data columns (total 4 columns):\n",
      " #   Column   Non-Null Count  Dtype \n",
      "---  ------   --------------  ----- \n",
      " 0   시도       250 non-null    object\n",
      " 1   시군구      250 non-null    object\n",
      " 2   code     250 non-null    int64 \n",
      " 3   keyword  250 non-null    object\n",
      "dtypes: int64(1), object(3)\n",
      "memory usage: 7.9+ KB\n"
     ]
    }
   ],
   "source": [
    "grouped_all_df.info()"
   ]
  },
  {
   "cell_type": "code",
   "execution_count": 15,
   "id": "cd5949a1",
   "metadata": {},
   "outputs": [],
   "source": [
    "grouped_all_df.to_csv('data/전국_시군구_키워드.csv', encoding='utf-8-sig', index=False)"
   ]
  }
 ],
 "metadata": {
  "kernelspec": {
   "display_name": "Python 3 (ipykernel)",
   "language": "python",
   "name": "python3"
  },
  "language_info": {
   "codemirror_mode": {
    "name": "ipython",
    "version": 3
   },
   "file_extension": ".py",
   "mimetype": "text/x-python",
   "name": "python",
   "nbconvert_exporter": "python",
   "pygments_lexer": "ipython3",
   "version": "3.10.9"
  }
 },
 "nbformat": 4,
 "nbformat_minor": 5
}
