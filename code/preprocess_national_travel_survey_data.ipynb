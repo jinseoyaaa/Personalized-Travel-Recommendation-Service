{
 "cells": [
  {
   "cell_type": "code",
   "execution_count": 4,
   "id": "6eebf334",
   "metadata": {},
   "outputs": [],
   "source": [
    "import pandas as pd\n",
    "\n",
    "# Load data\n",
    "data = pd.read_csv('data/국민여행조사.csv', encoding='utf-8-sig')\n",
    "\n",
    "# Convert string to numeric\n",
    "data['만족도'] = data['만족도'].map({'매우 만족': 5, '만족': 4, '보통': 3, '불만족': 2, '매우 불만족': 1})\n",
    "data['재방문의도'] = data['재방문의도'].map({'매우 높음': 5, '높음': 4, '보통': 3, '낮음': 2, '매우 낮음': 1})\n",
    "data['타인추천의도'] = data['타인추천의도'].map({'매우 높음': 5, '높음': 4, '보통': 3, '낮음': 2, '매우 낮음': 1})\n",
    "\n",
    "# Create a new column '평점' which is the average of '만족도', '재방문의도', '타인추천의도'\n",
    "data['평점'] = data[['만족도', '재방문의도', '타인추천의도']].mean(axis=1)\n",
    "\n",
    "# Define a function to categorize '동반자유형' into '가족' and '가족이 아닌 경우'\n",
    "def categorize_companion_type(row):\n",
    "    if '가족' in row:\n",
    "        return '가족'\n",
    "    else:\n",
    "        return '비가족'\n",
    "\n",
    "# Apply the function to the '동반자유형' column\n",
    "data['동반자유형'] = data['동반자유형'].apply(categorize_companion_type)\n",
    "\n",
    "data.head()\n",
    "\n",
    "data.to_csv('data/국민여행조사_전처리.csv', index=False, encoding='utf-8-sig')"
   ]
  }
 ],
 "metadata": {
  "kernelspec": {
   "display_name": "Python 3 (ipykernel)",
   "language": "python",
   "name": "python3"
  },
  "language_info": {
   "codemirror_mode": {
    "name": "ipython",
    "version": 3
   },
   "file_extension": ".py",
   "mimetype": "text/x-python",
   "name": "python",
   "nbconvert_exporter": "python",
   "pygments_lexer": "ipython3",
   "version": "3.10.9"
  }
 },
 "nbformat": 4,
 "nbformat_minor": 5
}
