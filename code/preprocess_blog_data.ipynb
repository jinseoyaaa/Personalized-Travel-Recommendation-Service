{
 "cells": [
  {
   "cell_type": "code",
   "execution_count": 2,
   "id": "d331b47d",
   "metadata": {},
   "outputs": [],
   "source": [
    "import pandas as pd\n",
    "from bs4 import BeautifulSoup\n",
    "import re\n",
    "from konlpy.tag import Okt\n",
    "from tqdm import tqdm"
   ]
  },
  {
   "cell_type": "markdown",
   "id": "02c2e93e",
   "metadata": {},
   "source": [
    "### 1차 전처리"
   ]
  },
  {
   "cell_type": "code",
   "execution_count": 17,
   "id": "732716da",
   "metadata": {},
   "outputs": [],
   "source": [
    "df = pd.read_csv('data/경기도.csv') "
   ]
  },
  {
   "cell_type": "code",
   "execution_count": 18,
   "id": "6690376f",
   "metadata": {},
   "outputs": [
    {
     "data": {
      "text/html": [
       "<div>\n",
       "<style scoped>\n",
       "    .dataframe tbody tr th:only-of-type {\n",
       "        vertical-align: middle;\n",
       "    }\n",
       "\n",
       "    .dataframe tbody tr th {\n",
       "        vertical-align: top;\n",
       "    }\n",
       "\n",
       "    .dataframe thead th {\n",
       "        text-align: right;\n",
       "    }\n",
       "</style>\n",
       "<table border=\"1\" class=\"dataframe\">\n",
       "  <thead>\n",
       "    <tr style=\"text-align: right;\">\n",
       "      <th></th>\n",
       "      <th>시도</th>\n",
       "      <th>시군구</th>\n",
       "      <th>code</th>\n",
       "      <th>title</th>\n",
       "      <th>content</th>\n",
       "    </tr>\n",
       "  </thead>\n",
       "  <tbody>\n",
       "    <tr>\n",
       "      <th>0</th>\n",
       "      <td>경기도</td>\n",
       "      <td>화성시</td>\n",
       "      <td>41590</td>\n",
       "      <td>&lt;b&gt;경기도 여행&lt;/b&gt; 화성 숙소 푸르미르호텔 조식 먹고 호캉스</td>\n",
       "      <td>봄날씨라 주말에는 집에만 있기 아까울정도에요~멀리 가기는 부담스럽고, 이번 주에는 ...</td>\n",
       "    </tr>\n",
       "    <tr>\n",
       "      <th>1</th>\n",
       "      <td>경기도</td>\n",
       "      <td>화성시</td>\n",
       "      <td>41590</td>\n",
       "      <td>제부도 갈만한곳 &lt;b&gt;경기도 여행&lt;/b&gt; 화성 바다 제부도 물때 시간표</td>\n",
       "      <td>제부도 갈만한곳 경기도 여행 화성 바다 제부도 물때 시간표​모세의 기적이 열리는 섬...</td>\n",
       "    </tr>\n",
       "    <tr>\n",
       "      <th>2</th>\n",
       "      <td>경기도</td>\n",
       "      <td>화성시</td>\n",
       "      <td>41590</td>\n",
       "      <td>서해랑 제부도 케이블카 전곡항 &lt;b&gt;경기도 여행&lt;/b&gt; 바닷가</td>\n",
       "      <td>주말 가족과 함께 집에서 멀지 않은 제부도 나들이 다녀왔어요. 시화호 방조제 건너 ...</td>\n",
       "    </tr>\n",
       "    <tr>\n",
       "      <th>3</th>\n",
       "      <td>경기도</td>\n",
       "      <td>화성시</td>\n",
       "      <td>41590</td>\n",
       "      <td>&lt;b&gt;경기도 여행&lt;/b&gt; 푸르미르호텔 조식 제대로인 화성 숙소 (+가볼만한곳)</td>\n",
       "      <td>안녕하세요! 홍끄입니다 :)​최근 남편과 여행을 못간 것 같아집 근처인 경기도 화성...</td>\n",
       "    </tr>\n",
       "    <tr>\n",
       "      <th>4</th>\n",
       "      <td>경기도</td>\n",
       "      <td>화성시</td>\n",
       "      <td>41590</td>\n",
       "      <td>&lt;b&gt;경기도 여행&lt;/b&gt; 서해랑 제부도 케이블카 대부도 바다향기 테마파크...</td>\n",
       "      <td>모세의 기적이 일어나는 제부도를  가려면 물때시간표를 보고 바닷길이 열릴 때 갈 수...</td>\n",
       "    </tr>\n",
       "  </tbody>\n",
       "</table>\n",
       "</div>"
      ],
      "text/plain": [
       "    시도  시군구   code                                         title  \\\n",
       "0  경기도  화성시  41590          <b>경기도 여행</b> 화성 숙소 푸르미르호텔 조식 먹고 호캉스   \n",
       "1  경기도  화성시  41590       제부도 갈만한곳 <b>경기도 여행</b> 화성 바다 제부도 물때 시간표   \n",
       "2  경기도  화성시  41590            서해랑 제부도 케이블카 전곡항 <b>경기도 여행</b> 바닷가   \n",
       "3  경기도  화성시  41590   <b>경기도 여행</b> 푸르미르호텔 조식 제대로인 화성 숙소 (+가볼만한곳)   \n",
       "4  경기도  화성시  41590  <b>경기도 여행</b> 서해랑 제부도 케이블카 대부도 바다향기 테마파크...    \n",
       "\n",
       "                                             content  \n",
       "0  봄날씨라 주말에는 집에만 있기 아까울정도에요~멀리 가기는 부담스럽고, 이번 주에는 ...  \n",
       "1  제부도 갈만한곳 경기도 여행 화성 바다 제부도 물때 시간표​모세의 기적이 열리는 섬...  \n",
       "2  주말 가족과 함께 집에서 멀지 않은 제부도 나들이 다녀왔어요. 시화호 방조제 건너 ...  \n",
       "3  안녕하세요! 홍끄입니다 :)​최근 남편과 여행을 못간 것 같아집 근처인 경기도 화성...  \n",
       "4  모세의 기적이 일어나는 제부도를  가려면 물때시간표를 보고 바닷길이 열릴 때 갈 수...  "
      ]
     },
     "execution_count": 18,
     "metadata": {},
     "output_type": "execute_result"
    }
   ],
   "source": [
    "df.head()"
   ]
  },
  {
   "cell_type": "code",
   "execution_count": 19,
   "id": "7a79e85e",
   "metadata": {},
   "outputs": [
    {
     "name": "stdout",
     "output_type": "stream",
     "text": [
      "<class 'pandas.core.frame.DataFrame'>\n",
      "RangeIndex: 12614 entries, 0 to 12613\n",
      "Data columns (total 5 columns):\n",
      " #   Column   Non-Null Count  Dtype \n",
      "---  ------   --------------  ----- \n",
      " 0   시도       12614 non-null  object\n",
      " 1   시군구      12614 non-null  object\n",
      " 2   code     12614 non-null  int64 \n",
      " 3   title    12614 non-null  object\n",
      " 4   content  12614 non-null  object\n",
      "dtypes: int64(1), object(4)\n",
      "memory usage: 492.9+ KB\n"
     ]
    }
   ],
   "source": [
    "df.info()"
   ]
  },
  {
   "cell_type": "code",
   "execution_count": 20,
   "id": "24a504a7",
   "metadata": {},
   "outputs": [
    {
     "name": "stdout",
     "output_type": "stream",
     "text": [
      "중복된 행의 개수: 1\n"
     ]
    }
   ],
   "source": [
    "# 중복행 개수 확인\n",
    "duplicate_count = df.duplicated().sum()\n",
    "print(\"중복된 행의 개수:\", duplicate_count)"
   ]
  },
  {
   "cell_type": "code",
   "execution_count": 21,
   "id": "810da189",
   "metadata": {},
   "outputs": [],
   "source": [
    "# 중복행 제거 및 인덱스 재정렬\n",
    "df = df.drop_duplicates(keep='first').reset_index(drop=True)"
   ]
  },
  {
   "cell_type": "code",
   "execution_count": 22,
   "id": "7256f0ab",
   "metadata": {},
   "outputs": [
    {
     "name": "stdout",
     "output_type": "stream",
     "text": [
      "중복된 행의 개수: 0\n"
     ]
    }
   ],
   "source": [
    "# 중복행 개수 확인\n",
    "duplicate_count = df.duplicated().sum()\n",
    "print(\"중복된 행의 개수:\", duplicate_count)"
   ]
  },
  {
   "cell_type": "code",
   "execution_count": 23,
   "id": "a30628ab",
   "metadata": {},
   "outputs": [],
   "source": [
    "df['full_content'] = df['title'] + df['content']"
   ]
  },
  {
   "cell_type": "code",
   "execution_count": 24,
   "id": "8f95519c",
   "metadata": {},
   "outputs": [],
   "source": [
    "# 불필요한 문자 제거 및 변환 함수\n",
    "def remove_unnecessary_characters(text):\n",
    "    # HTML 태그 제거\n",
    "    soup = BeautifulSoup(text, 'html.parser')\n",
    "    text = soup.get_text()\n",
    "    # HTML 엔티티 제거\n",
    "    text = re.sub('&[^\\s]*?;', '', text)\n",
    "    # 한글, 영어, 공백을 제외한 모든 문자 제거\n",
    "    pattern = r'[^가-힣a-zA-Z\\s]'\n",
    "    text = re.sub(pattern, '', text)\n",
    "    # 영어를 소문자로 변환\n",
    "    text = text.lower()\n",
    "    # 특정 문자 제거\n",
    "    pattern = re.compile(r'naver|corp|copyright|next|image|\\n|m|km')\n",
    "    text = re.sub(pattern, '', text)\n",
    "    # 공백이 두 칸 이상일 경우 한 칸으로 변환\n",
    "    text = re.sub(r'\\s+', ' ', text)\n",
    "    return text"
   ]
  },
  {
   "cell_type": "code",
   "execution_count": 25,
   "id": "f2770bdd",
   "metadata": {},
   "outputs": [],
   "source": [
    "# 형태소(명사, 동사, 형용사, 알파벳) 추출 함수\n",
    "def tokenize_text(text):\n",
    "    pos_tags = okt.pos(text, norm=True, stem=True)  \n",
    "    tokens = []\n",
    "    for token, tag in pos_tags:\n",
    "        if tag in ['Noun', 'Verb', 'Adjective', 'Alpha']:  \n",
    "            tokens.append(token)\n",
    "    return tokens"
   ]
  },
  {
   "cell_type": "code",
   "execution_count": 184,
   "id": "fcb085e7",
   "metadata": {},
   "outputs": [],
   "source": [
    "# 불용어 목록 파일을 불러와서 리스트로 저장하는 함수\n",
    "def load_stopwords(file_path):\n",
    "    with open(file_path, 'r', encoding='utf-8') as f:\n",
    "        stopwords = [line.strip() for line in f.readlines()]\n",
    "    return stopwords"
   ]
  },
  {
   "cell_type": "code",
   "execution_count": 185,
   "id": "b7c6b346",
   "metadata": {},
   "outputs": [],
   "source": [
    "# 불용어 제거 함수\n",
    "def remove_stopwords(tokens):\n",
    "    stopwords = load_stopwords(stopwords_file) \n",
    "    tokens = [token for token in tokens if token not in stopwords]\n",
    "    tokens = ' '.join(tokens)\n",
    "    return tokens"
   ]
  },
  {
   "cell_type": "code",
   "execution_count": 28,
   "id": "803e01f7",
   "metadata": {},
   "outputs": [
    {
     "name": "stderr",
     "output_type": "stream",
     "text": [
      "100%|███████████████████████████████████████████████████████████████████████████| 12613/12613 [00:15<00:00, 829.58it/s]\n",
      "100%|██████████████████████████████████████████████████████████████████████████| 12613/12613 [2:13:00<00:00,  1.58it/s]\n",
      "100%|████████████████████████████████████████████████████████████████████████████| 12613/12613 [04:55<00:00, 42.64it/s]\n"
     ]
    }
   ],
   "source": [
    "# 각 함수의 실행 시간 측정 및 진행 상태 표시\n",
    "tqdm.pandas()\n",
    "\n",
    "# Okt 형태소 분석기 객체 생성\n",
    "okt = Okt()\n",
    "\n",
    "# 불용어 목록 파일\n",
    "stopwords_file = 'text/stopwords.txt'\n",
    "\n",
    "# 함수 실행\n",
    "df['token'] = df['full_content'].progress_apply(remove_unnecessary_characters)\n",
    "df['token'] = df['token'].progress_apply(tokenize_text)\n",
    "df['token'] = df['token'].progress_apply(remove_stopwords)"
   ]
  },
  {
   "cell_type": "code",
   "execution_count": 29,
   "id": "eff89403",
   "metadata": {},
   "outputs": [
    {
     "data": {
      "text/html": [
       "<div>\n",
       "<style scoped>\n",
       "    .dataframe tbody tr th:only-of-type {\n",
       "        vertical-align: middle;\n",
       "    }\n",
       "\n",
       "    .dataframe tbody tr th {\n",
       "        vertical-align: top;\n",
       "    }\n",
       "\n",
       "    .dataframe thead th {\n",
       "        text-align: right;\n",
       "    }\n",
       "</style>\n",
       "<table border=\"1\" class=\"dataframe\">\n",
       "  <thead>\n",
       "    <tr style=\"text-align: right;\">\n",
       "      <th></th>\n",
       "      <th>시도</th>\n",
       "      <th>시군구</th>\n",
       "      <th>code</th>\n",
       "      <th>title</th>\n",
       "      <th>content</th>\n",
       "      <th>full_content</th>\n",
       "      <th>token</th>\n",
       "    </tr>\n",
       "  </thead>\n",
       "  <tbody>\n",
       "    <tr>\n",
       "      <th>0</th>\n",
       "      <td>경기도</td>\n",
       "      <td>화성시</td>\n",
       "      <td>41590</td>\n",
       "      <td>&lt;b&gt;경기도 여행&lt;/b&gt; 화성 숙소 푸르미르호텔 조식 먹고 호캉스</td>\n",
       "      <td>봄날씨라 주말에는 집에만 있기 아까울정도에요~멀리 가기는 부담스럽고, 이번 주에는 ...</td>\n",
       "      <td>&lt;b&gt;경기도 여행&lt;/b&gt; 화성 숙소 푸르미르호텔 조식 먹고 호캉스봄날씨라 주말에는 ...</td>\n",
       "      <td>숙소 푸르다 미르 호텔 조식 먹다 캉스 봄날 주말 집 아깝다 멀리 가기 부담스럽다 ...</td>\n",
       "    </tr>\n",
       "    <tr>\n",
       "      <th>1</th>\n",
       "      <td>경기도</td>\n",
       "      <td>화성시</td>\n",
       "      <td>41590</td>\n",
       "      <td>제부도 갈만한곳 &lt;b&gt;경기도 여행&lt;/b&gt; 화성 바다 제부도 물때 시간표</td>\n",
       "      <td>제부도 갈만한곳 경기도 여행 화성 바다 제부도 물때 시간표​모세의 기적이 열리는 섬...</td>\n",
       "      <td>제부도 갈만한곳 &lt;b&gt;경기도 여행&lt;/b&gt; 화성 바다 제부도 물때 시간표제부도 갈만한...</td>\n",
       "      <td>제부도 갈다 바다 제부도 물때 시간표 제부도 갈다 바다 제부도 물때 시간표 모세 기...</td>\n",
       "    </tr>\n",
       "    <tr>\n",
       "      <th>2</th>\n",
       "      <td>경기도</td>\n",
       "      <td>화성시</td>\n",
       "      <td>41590</td>\n",
       "      <td>서해랑 제부도 케이블카 전곡항 &lt;b&gt;경기도 여행&lt;/b&gt; 바닷가</td>\n",
       "      <td>주말 가족과 함께 집에서 멀지 않은 제부도 나들이 다녀왔어요. 시화호 방조제 건너 ...</td>\n",
       "      <td>서해랑 제부도 케이블카 전곡항 &lt;b&gt;경기도 여행&lt;/b&gt; 바닷가주말 가족과 함께 집에...</td>\n",
       "      <td>서해 제부도 케이블카 전곡항 바닷가 주말 가족 집 멀다 제부도 나들이 다녀오다 시화...</td>\n",
       "    </tr>\n",
       "    <tr>\n",
       "      <th>3</th>\n",
       "      <td>경기도</td>\n",
       "      <td>화성시</td>\n",
       "      <td>41590</td>\n",
       "      <td>&lt;b&gt;경기도 여행&lt;/b&gt; 푸르미르호텔 조식 제대로인 화성 숙소 (+가볼만한곳)</td>\n",
       "      <td>안녕하세요! 홍끄입니다 :)​최근 남편과 여행을 못간 것 같아집 근처인 경기도 화성...</td>\n",
       "      <td>&lt;b&gt;경기도 여행&lt;/b&gt; 푸르미르호텔 조식 제대로인 화성 숙소 (+가볼만한곳)안녕하...</td>\n",
       "      <td>푸르다 미르 호텔 조식 제대로 숙소 안녕하다 홍 최근 남편 아집 근처 떠나다 요호 ...</td>\n",
       "    </tr>\n",
       "    <tr>\n",
       "      <th>4</th>\n",
       "      <td>경기도</td>\n",
       "      <td>화성시</td>\n",
       "      <td>41590</td>\n",
       "      <td>&lt;b&gt;경기도 여행&lt;/b&gt; 서해랑 제부도 케이블카 대부도 바다향기 테마파크...</td>\n",
       "      <td>모세의 기적이 일어나는 제부도를  가려면 물때시간표를 보고 바닷길이 열릴 때 갈 수...</td>\n",
       "      <td>&lt;b&gt;경기도 여행&lt;/b&gt; 서해랑 제부도 케이블카 대부도 바다향기 테마파크... 모세...</td>\n",
       "      <td>서해 제부도 케이블카 대부도 바다 향기 테마 파크 모세 기적 일어나다 제부도 물때 ...</td>\n",
       "    </tr>\n",
       "  </tbody>\n",
       "</table>\n",
       "</div>"
      ],
      "text/plain": [
       "    시도  시군구   code                                         title  \\\n",
       "0  경기도  화성시  41590          <b>경기도 여행</b> 화성 숙소 푸르미르호텔 조식 먹고 호캉스   \n",
       "1  경기도  화성시  41590       제부도 갈만한곳 <b>경기도 여행</b> 화성 바다 제부도 물때 시간표   \n",
       "2  경기도  화성시  41590            서해랑 제부도 케이블카 전곡항 <b>경기도 여행</b> 바닷가   \n",
       "3  경기도  화성시  41590   <b>경기도 여행</b> 푸르미르호텔 조식 제대로인 화성 숙소 (+가볼만한곳)   \n",
       "4  경기도  화성시  41590  <b>경기도 여행</b> 서해랑 제부도 케이블카 대부도 바다향기 테마파크...    \n",
       "\n",
       "                                             content  \\\n",
       "0  봄날씨라 주말에는 집에만 있기 아까울정도에요~멀리 가기는 부담스럽고, 이번 주에는 ...   \n",
       "1  제부도 갈만한곳 경기도 여행 화성 바다 제부도 물때 시간표​모세의 기적이 열리는 섬...   \n",
       "2  주말 가족과 함께 집에서 멀지 않은 제부도 나들이 다녀왔어요. 시화호 방조제 건너 ...   \n",
       "3  안녕하세요! 홍끄입니다 :)​최근 남편과 여행을 못간 것 같아집 근처인 경기도 화성...   \n",
       "4  모세의 기적이 일어나는 제부도를  가려면 물때시간표를 보고 바닷길이 열릴 때 갈 수...   \n",
       "\n",
       "                                        full_content  \\\n",
       "0  <b>경기도 여행</b> 화성 숙소 푸르미르호텔 조식 먹고 호캉스봄날씨라 주말에는 ...   \n",
       "1  제부도 갈만한곳 <b>경기도 여행</b> 화성 바다 제부도 물때 시간표제부도 갈만한...   \n",
       "2  서해랑 제부도 케이블카 전곡항 <b>경기도 여행</b> 바닷가주말 가족과 함께 집에...   \n",
       "3  <b>경기도 여행</b> 푸르미르호텔 조식 제대로인 화성 숙소 (+가볼만한곳)안녕하...   \n",
       "4  <b>경기도 여행</b> 서해랑 제부도 케이블카 대부도 바다향기 테마파크... 모세...   \n",
       "\n",
       "                                               token  \n",
       "0  숙소 푸르다 미르 호텔 조식 먹다 캉스 봄날 주말 집 아깝다 멀리 가기 부담스럽다 ...  \n",
       "1  제부도 갈다 바다 제부도 물때 시간표 제부도 갈다 바다 제부도 물때 시간표 모세 기...  \n",
       "2  서해 제부도 케이블카 전곡항 바닷가 주말 가족 집 멀다 제부도 나들이 다녀오다 시화...  \n",
       "3  푸르다 미르 호텔 조식 제대로 숙소 안녕하다 홍 최근 남편 아집 근처 떠나다 요호 ...  \n",
       "4  서해 제부도 케이블카 대부도 바다 향기 테마 파크 모세 기적 일어나다 제부도 물때 ...  "
      ]
     },
     "execution_count": 29,
     "metadata": {},
     "output_type": "execute_result"
    }
   ],
   "source": [
    "df.head()"
   ]
  },
  {
   "cell_type": "code",
   "execution_count": 30,
   "id": "62cb82a2",
   "metadata": {},
   "outputs": [
    {
     "name": "stdout",
     "output_type": "stream",
     "text": [
      "<class 'pandas.core.frame.DataFrame'>\n",
      "RangeIndex: 12613 entries, 0 to 12612\n",
      "Data columns (total 7 columns):\n",
      " #   Column        Non-Null Count  Dtype \n",
      "---  ------        --------------  ----- \n",
      " 0   시도            12613 non-null  object\n",
      " 1   시군구           12613 non-null  object\n",
      " 2   code          12613 non-null  int64 \n",
      " 3   title         12613 non-null  object\n",
      " 4   content       12613 non-null  object\n",
      " 5   full_content  12613 non-null  object\n",
      " 6   token         12613 non-null  object\n",
      "dtypes: int64(1), object(6)\n",
      "memory usage: 689.9+ KB\n"
     ]
    }
   ],
   "source": [
    "df.info()"
   ]
  },
  {
   "cell_type": "code",
   "execution_count": 31,
   "id": "86ace272",
   "metadata": {},
   "outputs": [],
   "source": [
    "df.to_csv('data/경기도_전처리.csv', encoding='utf-8-sig', index=False)"
   ]
  },
  {
   "cell_type": "markdown",
   "id": "5777ff99",
   "metadata": {},
   "source": [
    "### 2차 전처리"
   ]
  },
  {
   "cell_type": "code",
   "execution_count": 416,
   "id": "ae8e3481",
   "metadata": {},
   "outputs": [],
   "source": [
    "df = pd.read_csv('data/충청북도_전처리.csv') "
   ]
  },
  {
   "cell_type": "code",
   "execution_count": 417,
   "id": "6ddd2b7c",
   "metadata": {},
   "outputs": [
    {
     "name": "stdout",
     "output_type": "stream",
     "text": [
      "<class 'pandas.core.frame.DataFrame'>\n",
      "RangeIndex: 4141 entries, 0 to 4140\n",
      "Data columns (total 7 columns):\n",
      " #   Column        Non-Null Count  Dtype  \n",
      "---  ------        --------------  -----  \n",
      " 0   시도            4141 non-null   object \n",
      " 1   시군구           4141 non-null   object \n",
      " 2   code          4141 non-null   float64\n",
      " 3   title         4141 non-null   object \n",
      " 4   content       4141 non-null   object \n",
      " 5   full_content  4141 non-null   object \n",
      " 6   token         4141 non-null   object \n",
      "dtypes: float64(1), object(6)\n",
      "memory usage: 226.6+ KB\n"
     ]
    }
   ],
   "source": [
    "df.info()"
   ]
  },
  {
   "cell_type": "code",
   "execution_count": 418,
   "id": "5ac58c78",
   "metadata": {},
   "outputs": [],
   "source": [
    "# 불필요한 데이터 제거\n",
    "word_list = '지역감각|지역전략|윤석열 대통령|급매|매매|전세|임대|월세|부동산|아파트|오피스텔|사업단|경진대회|프로그램|사업|노선|산학협력|분양|흥신소|교육|국토종합계획|대회'\n",
    "df = df[~df['title'].str.contains(word_list)]"
   ]
  },
  {
   "cell_type": "code",
   "execution_count": 419,
   "id": "cdb378e3",
   "metadata": {},
   "outputs": [],
   "source": [
    "# 인덱스 재정렬\n",
    "df = df.reset_index(drop=True)"
   ]
  },
  {
   "cell_type": "code",
   "execution_count": 420,
   "id": "65d36920",
   "metadata": {},
   "outputs": [],
   "source": [
    "# 타입 변환\n",
    "df['code'] = df['code'].astype('int64')"
   ]
  },
  {
   "cell_type": "code",
   "execution_count": 421,
   "id": "ccd8c7e0",
   "metadata": {},
   "outputs": [],
   "source": [
    "# 영어 제거 \n",
    "df['token'] = df['token'].str.replace(r'[a-zA-Z]+', '', regex=True)"
   ]
  },
  {
   "cell_type": "code",
   "execution_count": 422,
   "id": "d6dbdf60",
   "metadata": {},
   "outputs": [],
   "source": [
    "# 불용어 제거\n",
    "stopwords_file = 'text/stopwords2.txt'\n",
    "df['token'] = df['token'].str.split().apply(remove_stopwords)"
   ]
  },
  {
   "cell_type": "code",
   "execution_count": 423,
   "id": "55728abe",
   "metadata": {},
   "outputs": [],
   "source": [
    "df = df[['시도', '시군구', 'code', 'token']]"
   ]
  },
  {
   "cell_type": "code",
   "execution_count": 424,
   "id": "d2cd0711",
   "metadata": {},
   "outputs": [
    {
     "data": {
      "text/html": [
       "<div>\n",
       "<style scoped>\n",
       "    .dataframe tbody tr th:only-of-type {\n",
       "        vertical-align: middle;\n",
       "    }\n",
       "\n",
       "    .dataframe tbody tr th {\n",
       "        vertical-align: top;\n",
       "    }\n",
       "\n",
       "    .dataframe thead th {\n",
       "        text-align: right;\n",
       "    }\n",
       "</style>\n",
       "<table border=\"1\" class=\"dataframe\">\n",
       "  <thead>\n",
       "    <tr style=\"text-align: right;\">\n",
       "      <th></th>\n",
       "      <th>시도</th>\n",
       "      <th>시군구</th>\n",
       "      <th>code</th>\n",
       "      <th>token</th>\n",
       "    </tr>\n",
       "  </thead>\n",
       "  <tbody>\n",
       "    <tr>\n",
       "      <th>0</th>\n",
       "      <td>충청북도</td>\n",
       "      <td>괴산군</td>\n",
       "      <td>43760</td>\n",
       "      <td>광 저수지 은행나무 길 국내 가을 광 저수지 은행나무 길 광 저수지 은행나무 절정 ...</td>\n",
       "    </tr>\n",
       "    <tr>\n",
       "      <th>1</th>\n",
       "      <td>충청북도</td>\n",
       "      <td>괴산군</td>\n",
       "      <td>43760</td>\n",
       "      <td>군별 팔경 목록 여행명소 명소 군별 경 목록 정리 상당산성 둘러싸이다 구름 무심천 ...</td>\n",
       "    </tr>\n",
       "    <tr>\n",
       "      <th>2</th>\n",
       "      <td>충청북도</td>\n",
       "      <td>괴산군</td>\n",
       "      <td>43760</td>\n",
       "      <td>이야기 결과 후기 기간 수목 박일 여정 중부 지역 특이 사항 은퇴 부부 차 역사 인...</td>\n",
       "    </tr>\n",
       "    <tr>\n",
       "      <th>3</th>\n",
       "      <td>충청북도</td>\n",
       "      <td>괴산군</td>\n",
       "      <td>43760</td>\n",
       "      <td>드리다 스탬프 투어 스탬프 가이드 들락날락 블로그 시작 드리다 스탬프 투어 많다 참...</td>\n",
       "    </tr>\n",
       "    <tr>\n",
       "      <th>4</th>\n",
       "      <td>충청북도</td>\n",
       "      <td>괴산군</td>\n",
       "      <td>43760</td>\n",
       "      <td>베스트 좋다 지역 추천 청 충북도 둘리 숲속 둘리 숲속 속리산 법주사 길 위치 말티...</td>\n",
       "    </tr>\n",
       "  </tbody>\n",
       "</table>\n",
       "</div>"
      ],
      "text/plain": [
       "     시도  시군구   code                                              token\n",
       "0  충청북도  괴산군  43760  광 저수지 은행나무 길 국내 가을 광 저수지 은행나무 길 광 저수지 은행나무 절정 ...\n",
       "1  충청북도  괴산군  43760  군별 팔경 목록 여행명소 명소 군별 경 목록 정리 상당산성 둘러싸이다 구름 무심천 ...\n",
       "2  충청북도  괴산군  43760  이야기 결과 후기 기간 수목 박일 여정 중부 지역 특이 사항 은퇴 부부 차 역사 인...\n",
       "3  충청북도  괴산군  43760  드리다 스탬프 투어 스탬프 가이드 들락날락 블로그 시작 드리다 스탬프 투어 많다 참...\n",
       "4  충청북도  괴산군  43760  베스트 좋다 지역 추천 청 충북도 둘리 숲속 둘리 숲속 속리산 법주사 길 위치 말티..."
      ]
     },
     "execution_count": 424,
     "metadata": {},
     "output_type": "execute_result"
    }
   ],
   "source": [
    "df.head()"
   ]
  },
  {
   "cell_type": "code",
   "execution_count": 425,
   "id": "4ccfe626",
   "metadata": {},
   "outputs": [
    {
     "name": "stdout",
     "output_type": "stream",
     "text": [
      "<class 'pandas.core.frame.DataFrame'>\n",
      "RangeIndex: 4023 entries, 0 to 4022\n",
      "Data columns (total 4 columns):\n",
      " #   Column  Non-Null Count  Dtype \n",
      "---  ------  --------------  ----- \n",
      " 0   시도      4023 non-null   object\n",
      " 1   시군구     4023 non-null   object\n",
      " 2   code    4023 non-null   int64 \n",
      " 3   token   4023 non-null   object\n",
      "dtypes: int64(1), object(3)\n",
      "memory usage: 125.8+ KB\n"
     ]
    }
   ],
   "source": [
    "df.info()"
   ]
  },
  {
   "cell_type": "code",
   "execution_count": 426,
   "id": "9c700768",
   "metadata": {},
   "outputs": [],
   "source": [
    "df.to_csv('data/충청북도_전처리_2.csv', encoding='utf-8-sig', index=False)"
   ]
  }
 ],
 "metadata": {
  "kernelspec": {
   "display_name": "Python 3 (ipykernel)",
   "language": "python",
   "name": "python3"
  },
  "language_info": {
   "codemirror_mode": {
    "name": "ipython",
    "version": 3
   },
   "file_extension": ".py",
   "mimetype": "text/x-python",
   "name": "python",
   "nbconvert_exporter": "python",
   "pygments_lexer": "ipython3",
   "version": "3.10.9"
  }
 },
 "nbformat": 4,
 "nbformat_minor": 5
}
